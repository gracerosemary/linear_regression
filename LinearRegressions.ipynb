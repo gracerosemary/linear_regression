{
  "nbformat": 4,
  "nbformat_minor": 0,
  "metadata": {
    "colab": {
      "name": "LinearRegressions.ipynb",
      "provenance": [],
      "toc_visible": true
    },
    "kernelspec": {
      "name": "python3",
      "display_name": "Python 3.9.0 64-bit ('.venv')",
      "metadata": {
        "interpreter": {
          "hash": "2777ab4e4c1d92adebd13536353530b2cf555759f69e3377691e042573110815"
        }
      }
    }
  },
  "cells": [
    {
      "cell_type": "code",
      "metadata": {
        "colab": {
          "base_uri": "https://localhost:8080/"
        },
        "id": "JQBSNCUwn0oI",
        "outputId": "481ff09d-df52-4378-e454-e4621bffcc10"
      },
      "source": [
        "# from google.colab import drive\n",
        "# drive.mount('/content/drive')\n",
        "# drive.mount('/content/drive', force_remount=True)"
      ],
      "execution_count": 1,
      "outputs": []
    },
    {
      "cell_type": "code",
      "metadata": {
        "id": "cxGVhPkuoU0t"
      },
      "source": [
        "import pandas as pd\n",
        "import numpy as np\n",
        "import matplotlib.pyplot as plt\n",
        "from sklearn.linear_model import LinearRegression\n",
        "from sklearn.model_selection import train_test_split"
      ],
      "execution_count": 2,
      "outputs": [
        {
          "output_type": "error",
          "ename": "ModuleNotFoundError",
          "evalue": "No module named 'matplotlib'",
          "traceback": [
            "\u001b[0;31m---------------------------------------------------------------------------\u001b[0m",
            "\u001b[0;31mModuleNotFoundError\u001b[0m                       Traceback (most recent call last)",
            "\u001b[0;32m<ipython-input-2-eb91bc514a98>\u001b[0m in \u001b[0;36m<module>\u001b[0;34m\u001b[0m\n\u001b[1;32m      1\u001b[0m \u001b[0;32mimport\u001b[0m \u001b[0mpandas\u001b[0m \u001b[0;32mas\u001b[0m \u001b[0mpd\u001b[0m\u001b[0;34m\u001b[0m\u001b[0;34m\u001b[0m\u001b[0m\n\u001b[1;32m      2\u001b[0m \u001b[0;32mimport\u001b[0m \u001b[0mnumpy\u001b[0m \u001b[0;32mas\u001b[0m \u001b[0mnp\u001b[0m\u001b[0;34m\u001b[0m\u001b[0;34m\u001b[0m\u001b[0m\n\u001b[0;32m----> 3\u001b[0;31m \u001b[0;32mimport\u001b[0m \u001b[0mmatplotlib\u001b[0m\u001b[0;34m.\u001b[0m\u001b[0mpyplot\u001b[0m \u001b[0;32mas\u001b[0m \u001b[0mplt\u001b[0m\u001b[0;34m\u001b[0m\u001b[0;34m\u001b[0m\u001b[0m\n\u001b[0m\u001b[1;32m      4\u001b[0m \u001b[0;32mfrom\u001b[0m \u001b[0msklearn\u001b[0m\u001b[0;34m.\u001b[0m\u001b[0mlinear_model\u001b[0m \u001b[0;32mimport\u001b[0m \u001b[0mLinearRegression\u001b[0m\u001b[0;34m\u001b[0m\u001b[0;34m\u001b[0m\u001b[0m\n\u001b[1;32m      5\u001b[0m \u001b[0;32mfrom\u001b[0m \u001b[0msklearn\u001b[0m\u001b[0;34m.\u001b[0m\u001b[0mmodel_selection\u001b[0m \u001b[0;32mimport\u001b[0m \u001b[0mtrain_test_split\u001b[0m\u001b[0;34m\u001b[0m\u001b[0;34m\u001b[0m\u001b[0m\n",
            "\u001b[0;31mModuleNotFoundError\u001b[0m: No module named 'matplotlib'"
          ]
        }
      ]
    },
    {
      "cell_type": "code",
      "metadata": {
        "colab": {
          "base_uri": "https://localhost:8080/",
          "height": 204
        },
        "id": "ap6RgOPRps7A",
        "outputId": "1d54a188-3310-442d-bdab-00ecd610806b"
      },
      "source": [
        "cigs = pd.read_csv('cigs.csv')\n",
        "cigs.head()"
      ],
      "execution_count": 260,
      "outputs": [
        {
          "output_type": "execute_result",
          "data": {
            "text/html": [
              "<div>\n",
              "<style scoped>\n",
              "    .dataframe tbody tr th:only-of-type {\n",
              "        vertical-align: middle;\n",
              "    }\n",
              "\n",
              "    .dataframe tbody tr th {\n",
              "        vertical-align: top;\n",
              "    }\n",
              "\n",
              "    .dataframe thead th {\n",
              "        text-align: right;\n",
              "    }\n",
              "</style>\n",
              "<table border=\"1\" class=\"dataframe\">\n",
              "  <thead>\n",
              "    <tr style=\"text-align: right;\">\n",
              "      <th></th>\n",
              "      <th>Brand_Name</th>\n",
              "      <th>flavor</th>\n",
              "      <th>CO</th>\n",
              "      <th>nic</th>\n",
              "      <th>tar</th>\n",
              "      <th>size</th>\n",
              "      <th>filter</th>\n",
              "      <th>pack</th>\n",
              "      <th>menthol</th>\n",
              "    </tr>\n",
              "  </thead>\n",
              "  <tbody>\n",
              "    <tr>\n",
              "      <th>0</th>\n",
              "      <td>Alpine</td>\n",
              "      <td>NaN</td>\n",
              "      <td>15</td>\n",
              "      <td>1.1</td>\n",
              "      <td>16.0</td>\n",
              "      <td>100</td>\n",
              "      <td>F</td>\n",
              "      <td>SP</td>\n",
              "      <td>yes</td>\n",
              "    </tr>\n",
              "    <tr>\n",
              "      <th>1</th>\n",
              "      <td>Alpine</td>\n",
              "      <td>Lt</td>\n",
              "      <td>12</td>\n",
              "      <td>0.8</td>\n",
              "      <td>10.0</td>\n",
              "      <td>100</td>\n",
              "      <td>F</td>\n",
              "      <td>SP</td>\n",
              "      <td>yes</td>\n",
              "    </tr>\n",
              "    <tr>\n",
              "      <th>2</th>\n",
              "      <td>Alpine</td>\n",
              "      <td>NaN</td>\n",
              "      <td>15</td>\n",
              "      <td>1.1</td>\n",
              "      <td>16.0</td>\n",
              "      <td>King</td>\n",
              "      <td>F</td>\n",
              "      <td>HP</td>\n",
              "      <td>yes</td>\n",
              "    </tr>\n",
              "    <tr>\n",
              "      <th>3</th>\n",
              "      <td>Alpine</td>\n",
              "      <td>Lt</td>\n",
              "      <td>11</td>\n",
              "      <td>0.7</td>\n",
              "      <td>10.0</td>\n",
              "      <td>King</td>\n",
              "      <td>F</td>\n",
              "      <td>HP</td>\n",
              "      <td>yes</td>\n",
              "    </tr>\n",
              "    <tr>\n",
              "      <th>4</th>\n",
              "      <td>Alpine</td>\n",
              "      <td>NaN</td>\n",
              "      <td>16</td>\n",
              "      <td>1.0</td>\n",
              "      <td>16.0</td>\n",
              "      <td>King</td>\n",
              "      <td>F</td>\n",
              "      <td>SP</td>\n",
              "      <td>yes</td>\n",
              "    </tr>\n",
              "  </tbody>\n",
              "</table>\n",
              "</div>"
            ],
            "text/plain": [
              "  Brand_Name flavor  CO  nic   tar  size filter pack menthol\n",
              "0    Alpine     NaN  15  1.1  16.0   100      F   SP     yes\n",
              "1    Alpine      Lt  12  0.8  10.0   100      F   SP     yes\n",
              "2    Alpine     NaN  15  1.1  16.0  King      F   HP     yes\n",
              "3    Alpine      Lt  11  0.7  10.0  King      F   HP     yes\n",
              "4    Alpine     NaN  16  1.0  16.0  King      F   SP     yes"
            ]
          },
          "metadata": {
            "tags": []
          },
          "execution_count": 260
        }
      ]
    },
    {
      "cell_type": "code",
      "metadata": {
        "colab": {
          "base_uri": "https://localhost:8080/"
        },
        "id": "Q0-DdRY5JoKl",
        "outputId": "24cbf51a-7021-4c69-8ba6-bca799c90994"
      },
      "source": [
        "cigs.describe()"
      ],
      "execution_count": 237,
      "outputs": [
        {
          "output_type": "execute_result",
          "data": {
            "text/plain": [
              "(1125, 9)"
            ]
          },
          "metadata": {
            "tags": []
          },
          "execution_count": 237
        }
      ]
    },
    {
      "cell_type": "code",
      "metadata": {
        "colab": {
          "base_uri": "https://localhost:8080/"
        },
        "id": "e7jCwVHTJuZn",
        "outputId": "7c113d63-ae84-4aa3-b723-bd2e18d0605b"
      },
      "source": [
        "cigs.info()"
      ],
      "execution_count": 238,
      "outputs": [
        {
          "output_type": "stream",
          "text": [
            "<class 'pandas.core.frame.DataFrame'>\n",
            "RangeIndex: 1125 entries, 0 to 1124\n",
            "Data columns (total 9 columns):\n",
            " #   Column      Non-Null Count  Dtype  \n",
            "---  ------      --------------  -----  \n",
            " 0   Brand_Name  1125 non-null   object \n",
            " 1   flavor      907 non-null    object \n",
            " 2   CO          1125 non-null   int64  \n",
            " 3   nic         1125 non-null   float64\n",
            " 4   tar         1125 non-null   float64\n",
            " 5   size        1125 non-null   object \n",
            " 6   filter      1125 non-null   object \n",
            " 7   pack        1125 non-null   object \n",
            " 8   menthol     1125 non-null   object \n",
            "dtypes: float64(2), int64(1), object(6)\n",
            "memory usage: 79.2+ KB\n"
          ],
          "name": "stdout"
        }
      ]
    },
    {
      "cell_type": "code",
      "metadata": {
        "id": "7v-RCfRVqdjw"
      },
      "source": [
        "X = cigs['CO'].values\n",
        "y = cigs['tar'].values"
      ],
      "execution_count": 246,
      "outputs": []
    },
    {
      "cell_type": "code",
      "metadata": {
        "colab": {
          "base_uri": "https://localhost:8080/"
        },
        "id": "bE1gVK5IsNXP",
        "cellView": "code",
        "outputId": "62decd90-149f-4e13-fd9e-27fd50926b43"
      },
      "source": [
        "# reshape data and create 2 dimen array for train-test data\n",
        "X = X.reshape(-1,1)\n",
        "X"
      ],
      "execution_count": 249,
      "outputs": [
        {
          "output_type": "execute_result",
          "data": {
            "text/plain": [
              "array([[15],\n",
              "       [12],\n",
              "       [15],\n",
              "       ...,\n",
              "       [12],\n",
              "       [ 6],\n",
              "       [16]])"
            ]
          },
          "metadata": {
            "tags": []
          },
          "execution_count": 249
        }
      ]
    },
    {
      "cell_type": "code",
      "metadata": {
        "id": "lKd5aAThsPgX"
      },
      "source": [
        "x_train, x_test, y_train, y_test = train_test_split(X, y, train_size=.8, test_size=.2, random_state=100)"
      ],
      "execution_count": 250,
      "outputs": []
    },
    {
      "cell_type": "code",
      "metadata": {
        "colab": {
          "base_uri": "https://localhost:8080/"
        },
        "id": "bDfUdbmAsR93",
        "outputId": "bd6caa4b-7a93-4062-d7a7-da7abf73b361"
      },
      "source": [
        "# print out some data\n",
        "print(f'X_Train shape [{x_train.shape}]')\n",
        "print(f'X_Test shape [{x_test.shape}]')\n",
        "print(f'y_Train shape [{y_train.shape}]')\n",
        "print(f'y_Test shape [{y_test.shape}]')"
      ],
      "execution_count": 251,
      "outputs": [
        {
          "output_type": "stream",
          "text": [
            "X_Train shape [(900, 1)]\n",
            "X_Test shape [(225, 1)]\n",
            "y_Train shape [(900,)]\n",
            "y_Test shape [(225,)]\n"
          ],
          "name": "stdout"
        }
      ]
    },
    {
      "cell_type": "code",
      "metadata": {
        "colab": {
          "base_uri": "https://localhost:8080/",
          "height": 301
        },
        "id": "vz4HiIl7sTeA",
        "outputId": "a87640b4-c31b-4e52-96c0-aadefbbad686"
      },
      "source": [
        "# make scatter plot and labels\n",
        "plt.scatter(x_train, y_train, color='red')\n",
        "plt.xlabel('CO (mg of CO, rounded to nearest mg')\n",
        "plt.ylabel('Tar (mg of tar, rounded to nearest mg')\n",
        "plt.title('Amount of Tar vs Carbon Monoxide output')\n",
        "plt.show()"
      ],
      "execution_count": 253,
      "outputs": [
        {
          "output_type": "display_data",
          "data": {
            "image/png": "[encoded data removed]",
            "text/plain": [
              "<Figure size 432x288 with 1 Axes>"
            ]
          },
          "metadata": {
            "tags": []
          }
        }
      ]
    },
    {
      "cell_type": "code",
      "metadata": {
        "colab": {
          "base_uri": "https://localhost:8080/"
        },
        "id": "50RKeZ-hsVEr",
        "outputId": "a87fa164-89de-4dfb-8643-966bcf7f7ba0"
      },
      "source": [
        "# create liner reg model\n",
        "lm = LinearRegression()\n",
        "lm.fit(x_train, y_train)"
      ],
      "execution_count": 254,
      "outputs": [
        {
          "output_type": "execute_result",
          "data": {
            "text/plain": [
              "LinearRegression(copy_X=True, fit_intercept=True, n_jobs=None, normalize=False)"
            ]
          },
          "metadata": {
            "tags": []
          },
          "execution_count": 254
        }
      ]
    },
    {
      "cell_type": "code",
      "metadata": {
        "colab": {
          "base_uri": "https://localhost:8080/"
        },
        "id": "NAbYvrxDsXlM",
        "outputId": "f707c08c-9f4a-4de0-db9d-bcab0267ba19"
      },
      "source": [
        "# print accuracy rate\n",
        "print(f'Train Accuracy {round(lm.score(x_train, y_train)*100,2)}%')\n",
        "print(f'Test Accuracy {round(lm.score(x_train, y_train)*100,2)}%')"
      ],
      "execution_count": 263,
      "outputs": [
        {
          "output_type": "stream",
          "text": [
            "Train Accuracy 67.84%\n",
            "Test Accuracy 67.84%\n"
          ],
          "name": "stdout"
        }
      ]
    },
    {
      "cell_type": "code",
      "metadata": {
        "colab": {
          "base_uri": "https://localhost:8080/",
          "height": 318
        },
        "id": "K6bVWcrhsZ5L",
        "outputId": "69b84f7a-18fc-491c-ee9e-ebec3e2edc6b"
      },
      "source": [
        "# create plot with prediction model line\n",
        "plt.scatter(x_train, y_train, color='red')\n",
        "plt.plot(x_test, y_predict)\n",
        "plt.xlabel('CO (mg of CO, rounded to nearest mg')\n",
        "plt.ylabel('Tar (mg of tar, rounded to nearest mg')\n",
        "plt.title('Amount of Tar vs Carbon Monoxide output')\n",
        "plt.plot"
      ],
      "execution_count": 1,
      "outputs": [
        {
          "output_type": "error",
          "ename": "NameError",
          "evalue": "name 'plt' is not defined",
          "traceback": [
            "\u001b[0;31m---------------------------------------------------------------------------\u001b[0m",
            "\u001b[0;31mNameError\u001b[0m                                 Traceback (most recent call last)",
            "\u001b[0;32m<ipython-input-1-1c83c23f1e01>\u001b[0m in \u001b[0;36m<module>\u001b[0;34m\u001b[0m\n\u001b[1;32m      1\u001b[0m \u001b[0;31m# create plot with prediction model line\u001b[0m\u001b[0;34m\u001b[0m\u001b[0;34m\u001b[0m\u001b[0;34m\u001b[0m\u001b[0m\n\u001b[0;32m----> 2\u001b[0;31m \u001b[0mplt\u001b[0m\u001b[0;34m.\u001b[0m\u001b[0mscatter\u001b[0m\u001b[0;34m(\u001b[0m\u001b[0mx_train\u001b[0m\u001b[0;34m,\u001b[0m \u001b[0my_train\u001b[0m\u001b[0;34m,\u001b[0m \u001b[0mcolor\u001b[0m\u001b[0;34m=\u001b[0m\u001b[0;34m'red'\u001b[0m\u001b[0;34m)\u001b[0m\u001b[0;34m\u001b[0m\u001b[0;34m\u001b[0m\u001b[0m\n\u001b[0m\u001b[1;32m      3\u001b[0m \u001b[0mplt\u001b[0m\u001b[0;34m.\u001b[0m\u001b[0mplot\u001b[0m\u001b[0;34m(\u001b[0m\u001b[0mx_test\u001b[0m\u001b[0;34m,\u001b[0m \u001b[0my_predict\u001b[0m\u001b[0;34m)\u001b[0m\u001b[0;34m\u001b[0m\u001b[0;34m\u001b[0m\u001b[0m\n\u001b[1;32m      4\u001b[0m \u001b[0mplt\u001b[0m\u001b[0;34m.\u001b[0m\u001b[0mxlabel\u001b[0m\u001b[0;34m(\u001b[0m\u001b[0;34m'CO (mg of CO, rounded to nearest mg'\u001b[0m\u001b[0;34m)\u001b[0m\u001b[0;34m\u001b[0m\u001b[0;34m\u001b[0m\u001b[0m\n\u001b[1;32m      5\u001b[0m \u001b[0mplt\u001b[0m\u001b[0;34m.\u001b[0m\u001b[0mylabel\u001b[0m\u001b[0;34m(\u001b[0m\u001b[0;34m'Tar (mg of tar, rounded to nearest mg'\u001b[0m\u001b[0;34m)\u001b[0m\u001b[0;34m\u001b[0m\u001b[0;34m\u001b[0m\u001b[0m\n",
            "\u001b[0;31mNameError\u001b[0m: name 'plt' is not defined"
          ]
        }
      ]
    },
    {
      "cell_type": "code",
      "execution_count": null,
      "metadata": {},
      "outputs": [],
      "source": []
    }
  ]
}